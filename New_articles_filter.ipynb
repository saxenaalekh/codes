{
  "nbformat": 4,
  "nbformat_minor": 0,
  "metadata": {
    "colab": {
      "private_outputs": true,
      "provenance": []
    },
    "kernelspec": {
      "name": "python3",
      "display_name": "Python 3"
    },
    "language_info": {
      "name": "python"
    }
  },
  "cells": [
    {
      "cell_type": "code",
      "execution_count": null,
      "metadata": {
        "id": "XvZoVqRzlpMI"
      },
      "outputs": [],
      "source": [
        "!pip install transformers"
      ]
    },
    {
      "cell_type": "code",
      "source": [
        "!pip install pandarallel tqdm"
      ],
      "metadata": {
        "id": "XQh6T_bfpeEE"
      },
      "execution_count": null,
      "outputs": []
    },
    {
      "cell_type": "code",
      "source": [
        "from google.colab import drive\n",
        "\n",
        "# Mount Google Drive\n",
        "drive.mount('/content/drive')"
      ],
      "metadata": {
        "id": "ke6nVaBPm8YI"
      },
      "execution_count": null,
      "outputs": []
    },
    {
      "cell_type": "code",
      "source": [
        "import pandas as pd\n",
        "news=pd.read_csv('/content/drive/MyDrive/cnn/cnn.csv')\n",
        "news = news.sample(frac=1.0, random_state=42)\n"
      ],
      "metadata": {
        "id": "3CvBC9OYnWNy"
      },
      "execution_count": null,
      "outputs": []
    },
    {
      "cell_type": "code",
      "source": [
        "from pandarallel import pandarallel\n",
        "pandarallel.initialize(nb_workers=8,progress_bar=True)"
      ],
      "metadata": {
        "id": "3LqQcJYOpoYw"
      },
      "execution_count": null,
      "outputs": []
    },
    {
      "cell_type": "code",
      "source": [
        "from transformers import pipeline\n",
        "pipe=pipeline(\"text-classification\",model=\"nickmuchi/finbert-tone-finetuned-finance-topic-classification\")\n",
        "out=pipe(news.loc[0,'highlights'],padding=True,truncation=True,max_length=512,add_special_tokens=True)[0]"
      ],
      "metadata": {
        "id": "t2OhvsbXl4jF"
      },
      "execution_count": null,
      "outputs": []
    },
    {
      "cell_type": "code",
      "source": [
        "m=news[:500].copy()"
      ],
      "metadata": {
        "id": "IsM0edShp-z4"
      },
      "execution_count": null,
      "outputs": []
    },
    {
      "cell_type": "code",
      "source": [
        "m['topic']=m['highlights'].apply(lambda x: pipe(x))"
      ],
      "metadata": {
        "id": "qqUioXv3o3h_"
      },
      "execution_count": null,
      "outputs": []
    },
    {
      "cell_type": "code",
      "source": [
        "m['topic']=m['topic'].apply(pd.Series)\n",
        "\n",
        "#.apply(lambda x: x['label'])"
      ],
      "metadata": {
        "id": "NKB3rn1zp8sN"
      },
      "execution_count": null,
      "outputs": []
    },
    {
      "cell_type": "code",
      "source": [
        "m['label'] = m['topic'].apply(lambda x: list(x.values())[0])"
      ],
      "metadata": {
        "id": "J5eSy9aHqjRD"
      },
      "execution_count": null,
      "outputs": []
    },
    {
      "cell_type": "code",
      "source": [
        "m['label'].value_counts(normalize=True)"
      ],
      "metadata": {
        "id": "sxO32EERrvAm"
      },
      "execution_count": null,
      "outputs": []
    },
    {
      "cell_type": "code",
      "source": [
        "!pip install --quiet ipython-autotime\n",
        "%load_ext autotime"
      ],
      "metadata": {
        "id": "trzwMBIcu2L8"
      },
      "execution_count": null,
      "outputs": []
    },
    {
      "cell_type": "code",
      "source": [
        "!pip install --quiet textwrap3"
      ],
      "metadata": {
        "id": "VV-ImOOEvhSr"
      },
      "execution_count": null,
      "outputs": []
    },
    {
      "cell_type": "code",
      "source": [
        "from textwrap3 import wrap\n",
        "def wrap_text(text):\n",
        "    for wrp in wrap(text,100):\n",
        "        print(wrp)\n",
        "    print('\\n')"
      ],
      "metadata": {
        "id": "kNPNfq3PvmoK"
      },
      "execution_count": null,
      "outputs": []
    },
    {
      "cell_type": "code",
      "source": [
        "wrap_text(m.loc[4464,'highlights'])"
      ],
      "metadata": {
        "id": "F-4-E4TswK9t"
      },
      "execution_count": null,
      "outputs": []
    },
    {
      "cell_type": "code",
      "source": [
        "from datasets import load_dataset\n",
        "dataset=load_dataset(\"cnn_dailymail\",'3.0.0')"
      ],
      "metadata": {
        "id": "UusxkF3xwmmw"
      },
      "execution_count": null,
      "outputs": []
    },
    {
      "cell_type": "code",
      "source": [
        "import pandas as pd\n",
        "train_dataset=pd.DataFrame(dataset[\"train\"])\n",
        "val_dataset=pd.DataFrame(dataset[\"validation\"])\n",
        "test_dataset=pd.DataFrame(dataset[\"test\"])"
      ],
      "metadata": {
        "id": "ADYxf9DCy6_t"
      },
      "execution_count": null,
      "outputs": []
    },
    {
      "cell_type": "code",
      "source": [
        "data=pd.concat([train_dataset,val_dataset,test_dataset],ignore_index=True)"
      ],
      "metadata": {
        "id": "HuSu2j8XzAp2"
      },
      "execution_count": null,
      "outputs": []
    },
    {
      "cell_type": "code",
      "source": [
        "data['topic']=data['highlights'].apply(lambda x: pipe(x))"
      ],
      "metadata": {
        "id": "2_r8X1jBznOH"
      },
      "execution_count": null,
      "outputs": []
    },
    {
      "cell_type": "code",
      "source": [
        "data['topic']=data['topic'].apply(pd.Series)"
      ],
      "metadata": {
        "id": "kQqtnPgyzzws"
      },
      "execution_count": null,
      "outputs": []
    },
    {
      "cell_type": "code",
      "source": [
        "data['label'] = data['topic'].apply(lambda x: list(x.values())[0])"
      ],
      "metadata": {
        "id": "Da5a13ms0-t8"
      },
      "execution_count": null,
      "outputs": []
    }
  ]
}